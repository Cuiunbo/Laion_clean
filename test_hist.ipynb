{
 "cells": [
  {
   "cell_type": "code",
   "execution_count": 1,
   "id": "f4daee65",
   "metadata": {},
   "outputs": [],
   "source": [
    "import dask.dataframe as dd\n",
    "import string\n",
    "import re\n",
    "import string\n",
    "import unicodedata\n",
    "import pandas as pd\n",
    "import io\n",
    "from PIL import Image\n",
    "import matplotlib.pyplot as plt\n",
    "# import emoji"
   ]
  },
  {
   "cell_type": "code",
   "execution_count": 4,
   "id": "7326b017",
   "metadata": {},
   "outputs": [],
   "source": [
    "import numpy as np\n",
    "import matplotlib.pyplot as plt\n",
    "\n",
    "# Load the data\n",
    "hist = np.load('laion2b_hist.npy')\n",
    "\n",
    "yedges = np.load('laion2b_yedges.npy')\n",
    "bin_size = 50\n",
    "xedges = np.load('laion2b_xedges.npy')\n"
   ]
  },
  {
   "cell_type": "code",
   "execution_count": 2,
   "id": "a2c4fba6",
   "metadata": {},
   "outputs": [
    {
     "data": {
      "image/png": "[encoded data removed]",
      "text/plain": [
       "<Figure size 640x480 with 2 Axes>"
      ]
     },
     "metadata": {},
     "output_type": "display_data"
    }
   ],
   "source": [
    "# plt.imshow(hist, origin='lower', aspect='auto', extent=[0, 2000, 0, 2000], cmap='Blues')\n",
    "plt.imshow(hist[:20, :20], origin='lower', aspect='auto', extent=[0, 1000, 0, 1000], cmap='Blues')\n",
    "\n",
    "plt.colorbar(label='Frequency')\n",
    "plt.xlabel('WIDTH')\n",
    "plt.ylabel('HEIGHT')\n",
    "plt.title('WIDTH and HEIGHT Distribution')\n",
    "plt.savefig('lain2b_Distribution.png')\n",
    "plt.show()\n"
   ]
  },
  {
   "cell_type": "code",
   "execution_count": 6,
   "id": "4995697a",
   "metadata": {},
   "outputs": [
    {
     "data": {
      "text/plain": [
       "1326256966.0"
      ]
     },
     "execution_count": 6,
     "metadata": {},
     "output_type": "execute_result"
    }
   ],
   "source": [
    "total_data = np.sum(hist)\n",
    "total_data"
   ]
  },
  {
   "cell_type": "code",
   "execution_count": 16,
   "id": "06aa75ab",
   "metadata": {},
   "outputs": [
    {
     "name": "stdout",
     "output_type": "stream",
     "text": [
      "Top 10 ratios are at:\n",
      "Width = 450, Height = 300, Ratio = 0.6666666666666666\n",
      "Width = 450, Height = 450, Ratio = 1.0\n",
      "Width = 500, Height = 500, Ratio = 1.0\n",
      "Width = 300, Height = 200, Ratio = 0.6666666666666666\n",
      "Width = 250, Height = 250, Ratio = 1.0\n",
      "Width = 300, Height = 300, Ratio = 1.0\n",
      "Width = 150, Height = 150, Ratio = 1.0\n",
      "Width = 200, Height = 200, Ratio = 1.0\n",
      "Width = 100, Height = 100, Ratio = 1.0\n",
      "Width = 200, Height = 150, Ratio = 0.75\n"
     ]
    },
    {
     "name": "stderr",
     "output_type": "stream",
     "text": [
      "/tmp/ipykernel_666268/2947688012.py:1: RuntimeWarning: divide by zero encountered in true_divide\n",
      "  ratios = np.arange(yedges[0], yedges[-1], bin_size) / np.arange(xedges[0], xedges[-1], bin_size)[:, None]\n",
      "/tmp/ipykernel_666268/2947688012.py:1: RuntimeWarning: invalid value encountered in true_divide\n",
      "  ratios = np.arange(yedges[0], yedges[-1], bin_size) / np.arange(xedges[0], xedges[-1], bin_size)[:, None]\n"
     ]
    }
   ],
   "source": [
    "ratios = np.arange(yedges[0], yedges[-1], bin_size) / np.arange(xedges[0], xedges[-1], bin_size)[:, None]\n",
    "ratio_freqs = np.zeros_like(ratios)\n",
    "for i in range(hist.shape[0]):\n",
    "    for j in range(hist.shape[1]):\n",
    "        ratio_freqs[i, j] = hist[i, j]\n",
    "\n",
    "\n",
    "k = 10\n",
    "top_k_indices = np.unravel_index(np.argpartition(ratio_freqs.flatten(), -k)[-k:], ratio_freqs.shape)\n",
    "top_k_widths = top_k_indices[0] * bin_size\n",
    "top_k_heights = top_k_indices[1] * bin_size\n",
    "top_k_ratios = ratios[top_k_indices]\n",
    "print(f'Top {k} ratios are at:')\n",
    "for i in range(k):\n",
    "    print(f'Width = {top_k_widths[i]}, Height = {top_k_heights[i]}, Ratio = {top_k_ratios[i]}')"
   ]
  },
  {
   "cell_type": "code",
   "execution_count": 126,
   "id": "4098b2b9",
   "metadata": {},
   "outputs": [
    {
     "name": "stdout",
     "output_type": "stream",
     "text": [
      "38                                                                                                                              Shoes Shoe Casual Clothing Human Body Part Standing One Person Lifestyles People Human Leg Close-up Day Child Childhood Dirt Honduras ♥\n",
      "110                                                                                                                                                                           Winter forest seamless pattern. Christmas trees and snow backgro Stock photo © popaukropa\n",
      "369                                                                                                                                                                                                        GE® Stainless Steel Interior Dishwasher with Hidden Controls\n",
      "659                                                                                                                                                                                                           \"GE® 30\"\" Free-Standing Gas Double Oven Convection Range\"\n",
      "686                                                                                                                                                                                🔥 Contours Options Double Stroller 🔥 *Great Condition* for Sale in Lawrenceville, GA\n",
      "695                                                                                                                                         \"\"\"Photo 18: 80 19913 70 Avenue in Langley: Willoughby Heights Townhouse for sale in \"\"\"\"The Brooks\"\"\"\" : MLS®# R2332375\"\"\"\n",
      "796                                                                                                                                                                                        Compact Washer with IQ-Touch® Controls featuring Perfect Steam - 2.4 Cu. Ft.\n",
      "831                                                                                                                                                                                                                                \"GE® 27\"\" Built-In Single Wall Oven\"\n",
      "1029                                                                                                                                                                                                               Hallmark Harry Potter™ Best House Picture Frame, 4x6\n",
      "1040                                                                                                                                                                   RRP £69.00 CTEK MXS 5.0 Fully Automatic Battery Charger (Charges, Maintains and Reconditions Car\n",
      "1106                                                                                                                                                                                                                \"\"\"GE® 30\"\"\"\" Free-Standing Gas Convection Range\"\"\"\n",
      "1188                                                                                                                                                                     GE Profile™ Series ENERGY STAR® 27.8 Cu. Ft. French-Door Refrigerator with Hands-Free AutoFill\n",
      "1402                                                                                                                                               10 TABLE 14-3: Properties of Human Dopamine Receptor Subtypes Copyright © 2012, American Society for Neurochemistry.\n",
      "1542                                                                                                                                                                                     French property for sale in ST SAUD LACOUSSIERE, Dordogne - €259,000 - photo 3\n",
      "1621                                                                                                                                                                                               \"\"\"GE® 30\"\"\"\" Free-Standing Electric Double Oven Convection Range\"\"\"\n",
      "1773                                                               \"\"\"Comment voler un million de dollars\"\" (How to steal a million), film de William Wyler. Audrey Hepburn portant un chapeau Givenchy pour le film. Paris, 7 octobre 1965. © TopFoto / Roger-Viollet\"\n",
      "1830                                                                                                                                                           GE Profile™ Series ENERGY STAR® 27.8 Cu. Ft. French-Door Refrigerator with Keurig® K-Cup® Brewing System\n",
      "1891                                                                                                                                                                                                   <p>Daks toggle jacket, £475, for stockists call 0800 288 188</p>\n",
      "2027    Marina Abramović The Hero, 2001 Chromogenic print 49 ½ x 49 ½ in. (126 x 126 cm) National Museum of Women in the Arts, Gift of Heather and Tony Podesta Collection, Washington, D.C. ©Marina Abramović, Courtesy the Marina Abramović Archives. Photo: Lee S...\n",
      "2100                                                                                                                                                                                                                         Fort Ilocandia Resort Hotel Laoag - परिवेश\n",
      "Name: TEXT, dtype: object\n"
     ]
    }
   ],
   "source": [
    "#  ®: Registered Trademark. 这个符号表示该商标已经注册并受到法律保护。\n",
    "#  ™: Trademark. 这个符号表示该商标正在被使用作为一个商标，但可能尚未注册或受到法律保护。 --> ^(TM)\n",
    "#  ©: Copyright. 这个符号表示该作品（通常是艺术、音乐、文学作品等）的版权受到法律保护。\n",
    "# £ 英镑 €欧元 ---> ¤: 通常用于表示未指定的货币。\n",
    "# \"\"\"\" --> \" 转义\n",
    "# ½ ----> 1/2 分数\n",
    "# ♥\n"
   ]
  },
  {
   "cell_type": "code",
   "execution_count": null,
   "id": "6337dff4",
   "metadata": {},
   "outputs": [],
   "source": [
    "\n",
    "\n",
    "# df = pd.read_parquet('your_file.parquet')\n",
    "def show_image(buffer):\n",
    "    img = Image.open(io.BytesIO(buffer))\n",
    "    plt.imshow(img)\n",
    "    plt.show()\n",
    "\n",
    "result.head(10)['BUFFER'].apply(show_image)\n"
   ]
  }
 ],
 "metadata": {
  "kernelspec": {
   "display_name": "Python 3 (ipykernel)",
   "language": "python",
   "name": "python3"
  },
  "language_info": {
   "codemirror_mode": {
    "name": "ipython",
    "version": 3
   },
   "file_extension": ".py",
   "mimetype": "text/x-python",
   "name": "python",
   "nbconvert_exporter": "python",
   "pygments_lexer": "ipython3",
   "version": "3.10.8"
  }
 },
 "nbformat": 4,
 "nbformat_minor": 5
}
